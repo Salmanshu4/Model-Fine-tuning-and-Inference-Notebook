{
 "cells": [
  {
   "cell_type": "code",
   "execution_count": null,
   "id": "2fd08d77-6217-4258-9d5f-90d13308778d",
   "metadata": {
    "tags": []
   },
   "outputs": [],
   "source": [
    "#! pip install -U accelerate\n",
    "#! pip install -U transformers"
   ]
  },
  {
   "cell_type": "code",
   "execution_count": null,
   "id": "bc612bf7-f8f8-47e8-84cd-4d4acee405d0",
   "metadata": {
    "tags": []
   },
   "outputs": [],
   "source": [
    "import pandas as pd\n",
    "import numpy as np\n",
    "import seaborn as sns\n",
    "import matplotlib.pyplot as plt\n",
    "%matplotlib inline\n",
    "import warnings\n",
    "warnings.filterwarnings('ignore')"
   ]
  },
  {
   "cell_type": "code",
   "execution_count": null,
   "id": "fc630dc2-17c7-48cd-be94-e4160216b602",
   "metadata": {
    "tags": []
   },
   "outputs": [],
   "source": [
    "#!pip install emoji\n",
    "import emoji"
   ]
  },
  {
   "cell_type": "code",
   "execution_count": null,
   "id": "aeea4d3c-bce1-49af-ab6a-db027728a2f0",
   "metadata": {
    "tags": []
   },
   "outputs": [],
   "source": [
    "train = pd.read_csv(\"Downloads/train_data.csv\")\n",
    "test = pd.read_csv(\"Downloads/test_data.csv\")\n",
    "train.head()"
   ]
  },
  {
   "cell_type": "code",
   "execution_count": null,
   "id": "2087d33f-1785-4b4b-bf90-8cd3a146950a",
   "metadata": {
    "tags": []
   },
   "outputs": [],
   "source": [
    "from matplotlib import pyplot as plt\n",
    "import seaborn as sns\n",
    "train.groupby('sentiment').size().plot(kind='barh', color=sns.palettes.mpl_palette('Dark2'))\n",
    "plt.gca().spines[['top', 'right',]].set_visible(False)"
   ]
  },
  {
   "cell_type": "code",
   "execution_count": null,
   "id": "fbc0324b-0f33-4bf0-aba2-80701cbf6749",
   "metadata": {
    "tags": []
   },
   "outputs": [],
   "source": [
    "train = train[~(train['comment_description'].isna())]"
   ]
  },
  {
   "cell_type": "code",
   "execution_count": null,
   "id": "f00d49b1-afec-4798-b4bf-f3c2c6a8c60e",
   "metadata": {
    "tags": []
   },
   "outputs": [],
   "source": [
    "train['comment_description'] = train['comment_description'].apply(lambda x: emoji.demojize(x))"
   ]
  },
  {
   "cell_type": "code",
   "execution_count": null,
   "id": "05a630cb-d885-41f2-abab-70c13a5c8ad9",
   "metadata": {
    "tags": []
   },
   "outputs": [],
   "source": [
    "train['sentiment'].replace({'Negative': 0, 'Positive': 1,'Irrelevant':2}, inplace=True)"
   ]
  },
  {
   "cell_type": "code",
   "execution_count": null,
   "id": "325e5847-f491-443a-bbb7-b3a4a2e0bee3",
   "metadata": {
    "tags": []
   },
   "outputs": [],
   "source": [
    "train_texts = train['comment_description'].values.tolist()\n",
    "train_labels = train['sentiment'].values.tolist()\n",
    "test_texts = test['comment_description'].values.tolist()"
   ]
  },
  {
   "cell_type": "code",
   "execution_count": null,
   "id": "13b91c24-82af-4984-a452-0e020bf772b5",
   "metadata": {
    "tags": []
   },
   "outputs": [],
   "source": [
    "from sklearn.model_selection import train_test_split\n"
   ]
  },
  {
   "cell_type": "code",
   "execution_count": null,
   "id": "f1e86e3a-2217-4d03-b4c4-a7cd77c34343",
   "metadata": {
    "tags": []
   },
   "outputs": [],
   "source": [
    "train_texts, val_texts, train_labels, val_labels = train_test_split(train_texts, train_labels, test_size=.2,random_state=42,stratify=train_labels)"
   ]
  },
  {
   "cell_type": "code",
   "execution_count": null,
   "id": "bd25f82e-c045-46d9-8fb0-1d18a346dc94",
   "metadata": {
    "tags": []
   },
   "outputs": [],
   "source": [
    "import torch\n",
    "from torch.utils.data import Dataset\n",
    "from transformers import BertTokenizer, BertForSequenceClassification\n",
    "from transformers import Trainer,TrainingArguments"
   ]
  },
  {
   "cell_type": "code",
   "execution_count": null,
   "id": "91e72dfa-c8c6-43aa-84f2-4d70b5956470",
   "metadata": {
    "tags": []
   },
   "outputs": [],
   "source": [
    "tokenizer = BertTokenizer.from_pretrained('bert-base-multilingual-cased')\n"
   ]
  },
  {
   "cell_type": "code",
   "execution_count": null,
   "id": "3594ae7a-6665-4f68-988e-cf95c2fc391b",
   "metadata": {
    "tags": []
   },
   "outputs": [],
   "source": [
    "model = BertForSequenceClassification.from_pretrained('bert-base-multilingual-cased',num_labels=3)"
   ]
  },
  {
   "cell_type": "code",
   "execution_count": null,
   "id": "b5d26d53-77ab-4017-bad2-28ac93042665",
   "metadata": {
    "tags": []
   },
   "outputs": [],
   "source": [
    "train_encodings = tokenizer(train_texts, truncation=True, padding=True,return_tensors = 'pt')\n",
    "val_encodings = tokenizer(val_texts, truncation=True, padding=True,return_tensors = 'pt')\n",
    "test_encodings = tokenizer(test_texts, truncation=True, padding=True,return_tensors = 'pt')"
   ]
  },
  {
   "cell_type": "code",
   "execution_count": null,
   "id": "e76ca3b9-41cb-41d1-abf0-9c82857ff227",
   "metadata": {
    "tags": []
   },
   "outputs": [],
   "source": [
    "class SentimentDataset(torch.utils.data.Dataset):\n",
    "    def __init__(self, encodings, labels):\n",
    "        self.encodings = encodings\n",
    "        self.labels = labels\n",
    "\n",
    "    def __getitem__(self, idx):\n",
    "        item = {key: torch.tensor(val[idx]) for key, val in self.encodings.items()}\n",
    "        item['labels'] = torch.tensor(self.labels[idx])\n",
    "        return item\n",
    "\n",
    "    def __len__(self):\n",
    "        return len(self.labels)\n",
    "## Test Dataset\n",
    "class SentimentTestDataset(torch.utils.data.Dataset):\n",
    "    def __init__(self, encodings):\n",
    "        self.encodings = encodings\n",
    "\n",
    "    def __getitem__(self, idx):\n",
    "        item = {key: torch.tensor(val[idx]) for key, val in self.encodings.items()}\n",
    "        return item\n",
    "    def __len__(self):\n",
    "        return len(self.encodings)"
   ]
  },
  {
   "cell_type": "code",
   "execution_count": null,
   "id": "960ff1c7-666d-43e4-9a67-2fdee30ce1db",
   "metadata": {
    "tags": []
   },
   "outputs": [],
   "source": [
    "train_dataset = SentimentDataset(train_encodings, train_labels)\n",
    "val_dataset = SentimentDataset(val_encodings, val_labels)\n",
    "test_dataset = SentimentTestDataset(test_encodings)"
   ]
  },
  {
   "cell_type": "code",
   "execution_count": null,
   "id": "7c5fd783-d36a-46c7-8d50-c43f4f59f06a",
   "metadata": {
    "tags": []
   },
   "outputs": [],
   "source": [
    "from sklearn.metrics import accuracy_score, f1_score\n",
    "def compute_metrics(p):\n",
    "    pred, labels = p\n",
    "    pred = np.argmax(pred, axis=1)\n",
    "\n",
    "    accuracy = accuracy_score(y_true=labels, y_pred=pred)\n",
    "    #recall = recall_score(y_true=labels, y_pred=pred)\n",
    "    #precision = precision_score(y_true=labels, y_pred=pred)\n",
    "    f1 = f1_score(labels, pred, average='weighted')\n",
    "\n",
    "    return {\"accuracy\": accuracy,\"f1_score\":f1}"
   ]
  },
  {
   "cell_type": "code",
   "execution_count": null,
   "id": "f8383aac-1242-4c83-94fa-c008dd60a8f2",
   "metadata": {
    "tags": []
   },
   "outputs": [],
   "source": [
    "training_args = TrainingArguments(\n",
    "    output_dir='sample_data',          # output directory\n",
    "    evaluation_strategy=\"steps\",\n",
    "    num_train_epochs=5,              # total number of training epochs\n",
    "    per_device_train_batch_size=32,  # batch size per device during training\n",
    "    per_device_eval_batch_size=64,   # batch size for evaluation\n",
    "    warmup_steps=500,                # number of warmup steps for learning rate scheduler\n",
    "    weight_decay=0.01,               # strength of weight decay\n",
    "    logging_dir='./logs4',            # directory for storing logs\n",
    "    #logging_steps=10,\n",
    "    load_best_model_at_end=True)"
   ]
  },
  {
   "cell_type": "code",
   "execution_count": null,
   "id": "55dd5d3d-c1d7-4450-9c79-cc3da6ea354d",
   "metadata": {
    "tags": []
   },
   "outputs": [],
   "source": [
    "args = TrainingArguments(\n",
    "    output_dir=\"sample_data\",\n",
    "    num_train_epochs=5,\n",
    "    per_device_train_batch_size=8\n",
    "\n",
    ")"
   ]
  },
  {
   "cell_type": "code",
   "execution_count": null,
   "id": "fa74403a-3de9-4395-a7ca-d838de769d16",
   "metadata": {
    "tags": []
   },
   "outputs": [],
   "source": [
    "trainer = Trainer(\n",
    "    model=model,# the instantiated 🤗 Transformers model to be trained\n",
    "    args=training_args, # training arguments, defined above\n",
    "    train_dataset=train_dataset,# training dataset\n",
    "    eval_dataset=val_dataset , # evaluation dataset\n",
    "    compute_metrics=compute_metrics,\n",
    ")"
   ]
  },
  {
   "cell_type": "code",
   "execution_count": null,
   "id": "efb2a86b-4c20-4d54-861c-a5744b4b89c1",
   "metadata": {
    "tags": []
   },
   "outputs": [],
   "source": [
    "import os\n",
    "os.environ[\"PYTORCH_MPS_HIGH_WATERMARK_RATIO\"] = \"0.0\""
   ]
  },
  {
   "cell_type": "code",
   "execution_count": null,
   "id": "b2d6e114-d42b-4ce8-9f1c-30c17a3f632a",
   "metadata": {},
   "outputs": [],
   "source": [
    "trainer.train()"
   ]
  },
  {
   "cell_type": "code",
   "execution_count": null,
   "id": "bdcc99a0-5c9b-4f41-828b-2ecc228498b3",
   "metadata": {},
   "outputs": [],
   "source": [
    "trainer.evaluate()"
   ]
  },
  {
   "cell_type": "code",
   "execution_count": null,
   "id": "aa6a0794-aa1e-4b28-8db2-7b21bc778d9b",
   "metadata": {
    "tags": []
   },
   "outputs": [],
   "source": [
    "test['sentiment'] = 0 test_texts = test[‘Review’].values.tolist() test_labels = test[‘Sentiment’].values.tolist() \n",
    "test_encodings = tokenizer(test_texts, truncation=True, padding=True,return_tensors = ‘pt’).to(“cuda”) \n",
    "test_dataset = SentimentDataset(test_encodings, test_labels)\n",
    "preds = trainer.predict(test_dataset=test_dataset)"
   ]
  },
  {
   "cell_type": "code",
   "execution_count": null,
   "id": "56866af1-d08d-4f59-8653-c730ee8f51d7",
   "metadata": {},
   "outputs": [],
   "source": [
    "probs = torch.from_numpy(preds[0]).softmax(1)\n",
    "predictions = probs.numpy()# convert tensors to numpy array\n",
    "newdf = pd.DataFrame(predictions,columns=['Negative_0','Neutral_1','Positive_2'])\n",
    "new_df.head()"
   ]
  },
  {
   "cell_type": "code",
   "execution_count": null,
   "id": "20a7399f-a358-4626-989f-a187bb1abbb3",
   "metadata": {},
   "outputs": [],
   "source": [
    "def labels(x):\n",
    "    if x == 0:\n",
    "        return 'Negative'\n",
    "    elif x == 1:\n",
    "        return 'Irrelavant'\n",
    "    else:\n",
    "        return 'Positive'\n",
    "\n",
    "results = np.argmax(predictions,axis=1)\n",
    "test['sentiment'] = results\n",
    "test['sentiment'] = test['sentiment'].map(labels)\n",
    "test.head()"
   ]
  }
 ],
 "metadata": {
  "kernelspec": {
   "display_name": "Python 3 (ipykernel)",
   "language": "python",
   "name": "python3"
  },
  "language_info": {
   "codemirror_mode": {
    "name": "ipython",
    "version": 3
   },
   "file_extension": ".py",
   "mimetype": "text/x-python",
   "name": "python",
   "nbconvert_exporter": "python",
   "pygments_lexer": "ipython3",
   "version": "3.11.5"
  }
 },
 "nbformat": 4,
 "nbformat_minor": 5
}
